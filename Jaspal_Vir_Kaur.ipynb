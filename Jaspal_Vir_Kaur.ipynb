{
  "nbformat": 4,
  "nbformat_minor": 0,
  "metadata": {
    "colab": {
      "provenance": []
    },
    "kernelspec": {
      "name": "python3",
      "display_name": "Python 3"
    },
    "language_info": {
      "name": "python"
    }
  },
  "cells": [
    {
      "cell_type": "code",
      "execution_count": 1,
      "metadata": {
        "colab": {
          "base_uri": "https://localhost:8080/"
        },
        "id": "SEgjBq4IYz2w",
        "outputId": "8cd71c7d-7de8-4888-827a-bc88fd67b67a"
      },
      "outputs": [
        {
          "output_type": "stream",
          "name": "stdout",
          "text": [
            "[]\n"
          ]
        }
      ],
      "source": [
        "def find_intersection(list1, list2, list3):\n",
        "    # Convert all names to lowercase and store them in sets\n",
        "    set1 = set(name.lower() for name in list1)\n",
        "    set2 = set(name.lower() for name in list2)\n",
        "    set3 = set(name.lower() for name in list3)\n",
        "\n",
        "    # Find the intersection of the three sets\n",
        "    intersection = set1.intersection(set2, set3)\n",
        "\n",
        "    # Convert the result back to a list and sort it\n",
        "    result_list = sorted(list(intersection))\n",
        "\n",
        "    return result_list\n",
        "\n",
        "# Test input lists\n",
        "list1 = ['John', 'Alice', 'Bob', 'Charlie']\n",
        "list2 = ['alice', 'Bob', 'Eve', 'Mallory']\n",
        "list3 = ['JOHN', 'mallory', 'CharLiE']\n",
        "\n",
        "# Get the list of students who passed all three rounds\n",
        "output_list = find_intersection(list1, list2, list3)\n",
        "\n",
        "# Print the output list\n",
        "print(output_list)\n"
      ]
    },
    {
      "cell_type": "code",
      "source": [],
      "metadata": {
        "id": "lXdeBjdtY1Vt"
      },
      "execution_count": null,
      "outputs": []
    }
  ]
}